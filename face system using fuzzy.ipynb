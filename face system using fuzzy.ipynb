{
 "cells": [
  {
   "cell_type": "code",
   "execution_count": 2,
   "id": "9879f93a-247e-42fe-874f-655fce0cff55",
   "metadata": {},
   "outputs": [],
   "source": [
    "#lab 7 fuzzy real time\n",
    "\n",
    "import cv2\n",
    "import numpy as np\n",
    "import skfuzzy as fuzz\n",
    "import skfuzzy.control as ctrl\n",
    "\n",
    "# Fuzzy variables\n",
    "brightness = ctrl.Antecedent(np.arange(256), 'brightness')\n",
    "edge_intensity = ctrl.Antecedent(np.arange(256), 'edge_intensity')\n",
    "classification = ctrl.Consequent(np.arange(101), 'classification')\n",
    "\n",
    "# Define membership functions\n",
    "def set_mf(var, labels, ranges):\n",
    "    for label, rng in zip(labels, ranges):\n",
    "        var[label] = fuzz.trimf(var.universe, rng)\n",
    "\n",
    "set_mf(brightness, ['dark', 'normal', 'bright'], [(0, 50, 100), (50, 127, 200), (150, 200, 255)])\n",
    "set_mf(edge_intensity, ['low', 'medium', 'high'], [(0, 50, 100), (50, 127, 200), (150, 200, 255)])\n",
    "set_mf(classification, ['low', 'medium', 'high'], [(0, 25, 50), (25, 50, 75), (50, 75, 100)])\n",
    "\n",
    "# Rules\n",
    "rules = [\n",
    "    ctrl.Rule(brightness['dark'] | edge_intensity['low'], classification['low']),\n",
    "    ctrl.Rule(brightness['normal'] | edge_intensity['medium'], classification['medium']),\n",
    "    ctrl.Rule(brightness['bright'] | edge_intensity['high'], classification['high']),\n",
    "]\n",
    "\n",
    "classifier = ctrl.ControlSystemSimulation(ctrl.ControlSystem(rules))\n",
    "\n",
    "# Real-time fuzzy classification\n",
    "def real_time_classification():\n",
    "    cap = cv2.VideoCapture(0)\n",
    "    while True:\n",
    "        ret, frame = cap.read()\n",
    "        if not ret: break\n",
    "\n",
    "        gray = cv2.cvtColor(frame, cv2.COLOR_BGR2GRAY)\n",
    "        classifier.input['brightness'] = np.mean(gray)\n",
    "        classifier.input['edge_intensity'] = np.mean(cv2.Canny(gray, 100, 200))\n",
    "        classifier.compute()\n",
    "\n",
    "        cv2.putText(frame, f'Class: {classifier.output[\"classification\"]:.1f}', (10, 50),\n",
    "                    cv2.FONT_HERSHEY_SIMPLEX, 1, (0, 255, 0), 2)\n",
    "        cv2.imshow('Fuzzy Classification', frame)\n",
    "\n",
    "        if cv2.waitKey(1) & 0xFF == ord('q'): break\n",
    "\n",
    "    cap.release()\n",
    "    cv2.destroyAllWindows()\n",
    "\n",
    "if __name__ == \"__main__\":\n",
    "    real_time_classification()\n"
   ]
  },
  {
   "cell_type": "code",
   "execution_count": null,
   "id": "c92de92d-b657-4627-a577-67bc75f26d03",
   "metadata": {},
   "outputs": [],
   "source": []
  }
 ],
 "metadata": {
  "kernelspec": {
   "display_name": "Python 3 (ipykernel)",
   "language": "python",
   "name": "python3"
  },
  "language_info": {
   "codemirror_mode": {
    "name": "ipython",
    "version": 3
   },
   "file_extension": ".py",
   "mimetype": "text/x-python",
   "name": "python",
   "nbconvert_exporter": "python",
   "pygments_lexer": "ipython3",
   "version": "3.9.13"
  }
 },
 "nbformat": 4,
 "nbformat_minor": 5
}
